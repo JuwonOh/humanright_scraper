{
 "cells": [
  {
   "cell_type": "code",
   "execution_count": 1,
   "metadata": {},
   "outputs": [],
   "source": [
    "import time\n",
    "import Humanright_scraper"
   ]
  },
  {
   "cell_type": "code",
   "execution_count": 2,
   "metadata": {
    "scrolled": true
   },
   "outputs": [
    {
     "name": "stdout",
     "output_type": "stream",
     "text": [
      "44 report_urls for all report\n",
      "45 news_urls for all article\n"
     ]
    }
   ],
   "source": [
    "from Humanright_scraper import get_report_urls\n",
    "from Humanright_scraper import get_news_urls\n",
    "\n",
    "report_urls = get_report_urls(begin_page=0, end_page=2, verbose=True)\n",
    "print('%d report_urls for all report' % len(report_urls))\n",
    "\n",
    "news_urls = get_news_urls(begin_page=0, end_page=2, verbose=True)\n",
    "print('%d news_urls for all article' % len(news_urls))"
   ]
  },
  {
   "cell_type": "code",
   "execution_count": 3,
   "metadata": {},
   "outputs": [
    {
     "name": "stdout",
     "output_type": "stream",
     "text": [
      "url : https://www.hrw.org/report/2019/02/04/what-hell-feels/acid-violence-cambodia ..\n",
      "title : “What Hell Feels Like”Acid Violence in Cambodia ..\n",
      "date : 2019-02-04T19:30:00-05:00 ..\n",
      "content : \n",
      "\n",
      "Summary\n",
      "\n",
      "Sitting on a thin mattress on the floor of their home in a Phnom Penh slum, 3-year-old Mo ..\n",
      "tag : Region / Country Asia Cambodia  ..\n",
      "\n",
      "\n",
      "url : https://www.hrw.org/report/2019/01/31/dashed-hopes/criminalization-peaceful-expression-myanmar ..\n",
      "title : Dashed HopesThe Criminalization of Peaceful Expression in Myanmar ..\n",
      "date : 2019-01-31T21:00:00-05:00 ..\n",
      "content : \n",
      " \n",
      "\n",
      "Summary\n",
      "\n",
      "This is the time to talk about freedom of expression. We expected it to become better,  ..\n",
      "tag : Region / Country Asia Burma  ..\n",
      "\n",
      "\n",
      "url : https://www.hrw.org/report/2019/01/23/no-room-bargain/unfair-and-abusive-labor-practices-pakistan ..\n",
      "title : “No Room to Bargain”Unfair and Abusive Labor Practices in Pakistan ..\n",
      "date : 2019-01-23T15:00:42-05:00 ..\n",
      "content : \n",
      " \n",
      "\n",
      "Summary\n",
      "\n",
      "“Shabana,” a pseudonym, has been working for more than eight years at a Lahore garment  ..\n",
      "tag : Region / Country Asia Pakistan  ..\n",
      "\n",
      "\n",
      "url : https://www.hrw.org/news/2019/02/16/most-popular-twitter-top-tweets-week ..\n",
      "title : Most Popular on Twitter - Top Tweets This Week ..\n",
      "date : 2019-02-16T23:42:38-05:00 ..\n",
      "content : \n",
      "Trending rights tweets this week: An app in Saudi Arabia allows men to track their wives and daught ..\n",
      "tag : Region / Country Global  ..\n",
      "\n",
      "\n",
      "url : https://www.hrw.org/news/2019/02/15/pakistan-should-address-pashtun-grievances ..\n",
      "title : Pakistan Should Address Pashtun GrievancesConduct Transparent Investigation into Activist’s Death ..\n",
      "date : 2019-02-15T22:13:52-05:00 ..\n",
      "content : \n",
      "\n",
      "\n",
      "\n",
      "\n",
      "\n",
      " \n",
      "\n",
      "Expand\n",
      "\n",
      "\n",
      "\n",
      "People walk past shops closed due to a strike to condemn the death of prominent P ..\n",
      "tag : Region / Country Asia Pakistan  ..\n",
      "\n",
      "\n",
      "url : https://www.hrw.org/news/2019/02/15/myanmar-investigate-police-use-force-karenni-state ..\n",
      "title : Myanmar: Investigate Police Use of Force in Karenni StateProtect Right to Peaceful Assembly, Free Ex ..\n",
      "date : 2019-02-15T18:00:51-05:00 ..\n",
      "content : \n",
      "\n",
      "\n",
      "\n",
      "\n",
      "\n",
      " \n",
      "\n",
      "Expand\n",
      "\n",
      "\n",
      "\n",
      "Police carry away a protester in Karenni State on February 12, 2019.\n",
      "\n",
      "© 2019 Priv ..\n",
      "tag : Region / Country Asia Burma  ..\n",
      "\n",
      "\n"
     ]
    }
   ],
   "source": [
    "from Humanright_scraper import parse_page\n",
    "def pprint(json_object):\n",
    "    for k, v in json_object.items():\n",
    "        print('{} : {} ..'.format(k, str(v)[:100]))\n",
    "    print('\\n')\n",
    "\n",
    "SLEEP = 0.5\n",
    "\n",
    "   \n",
    "for url in report_urls[:3]:\n",
    "    rjson_object = parse_page(url)\n",
    "    pprint(rjson_object)\n",
    "\n",
    "for url in news_urls[:3]:\n",
    "    ajson_object = parse_page(url)\n",
    "    pprint(ajson_object)"
   ]
  },
  {
   "cell_type": "code",
   "execution_count": 4,
   "metadata": {},
   "outputs": [
    {
     "name": "stdout",
     "output_type": "stream",
     "text": [
      "[1 / 10] (2019-02-04) “What Hell Feels Like”Acid Violence in Cambodia\n",
      "[2 / 10] (2019-01-31) Dashed HopesThe Criminalization of Peaceful Expression in Myanmar\n",
      "[3 / 10] (2019-01-23) “No Room to Bargain”Unfair and Abusive Labor Practices in Pakistan\n",
      "[4 / 10] (2019-01-21) No Escape from HellEU Policies Contribute to Abuse of Migrants in Libya\n",
      "[5 / 10] (2019-01-09) Unmet NeedsImproper Social Care Assessments for Older People in England\n",
      "Stop scrapping. 5 / 10 report was scrapped\n",
      "The oldest blog article has been created after 2019-01-01\n"
     ]
    }
   ],
   "source": [
    "from Humanright_scraper import yield_latest_report\n",
    "\n",
    "begin_date = '2019-01-01'\n",
    "max_num = 10\n",
    "sleep = 1.0\n",
    "\n",
    "for i, json_obj in enumerate(yield_latest_report(begin_date, max_num, sleep)):\n",
    "    title = json_obj['title']\n",
    "    time = json_obj['date']\n",
    "    print('[{} / {}] ({}) {}'.format(i+1, max_num, time, title))"
   ]
  },
  {
   "cell_type": "code",
   "execution_count": 5,
   "metadata": {
    "scrolled": false
   },
   "outputs": [
    {
     "name": "stdout",
     "output_type": "stream",
     "text": [
      "[1 / 10] (2019-02-16) Most Popular on Twitter - Top Tweets This Week\n",
      "[2 / 10] (2019-02-15) Pakistan Should Address Pashtun GrievancesConduct Transparent Investigation into Activist’s Death\n",
      "[3 / 10] (2019-02-15) Myanmar: Investigate Police Use of Force in Karenni StateProtect Right to Peaceful Assembly, Free Expression\n",
      "[4 / 10] (2019-02-15) The BBC is Failing Women on AbortionInstitution Says Issue is too ‘Contentious’\n",
      "[5 / 10] (2019-02-15) Trump’s National Emergency? Think AgainFear-Mongering Not Supported by the Facts\n",
      "[6 / 10] (2019-02-15) UK’s ISIS Schoolgirl Case Shows Justice is KeyFormer ISIS Members Should Be Allowed Home to UK but Face Prosecution Where Necessary \n",
      "[7 / 10] (2019-02-15) Equatorial Guinea: Rights Lawyer Faces Bogus ChargesGrave Concern Detainees Have Been Tortured, Killed\n",
      "[8 / 10] (2019-02-15) Tunisia: Citizens Testing Right-to-Information LawLaw’s Reach Depends on Enforcement\n",
      "[9 / 10] (2019-02-15) Russia: New Wave of Anti-LGBT PersecutionAuthorities Fail to Address Threats Against Rights Defender\n",
      "[10 / 10] (2019-02-14) Turkey Calls Out China’s Repression of UyghursAnkara Should Lead Efforts for Xinjiang UN Fact-Finding Mission\n"
     ]
    }
   ],
   "source": [
    "from Humanright_scraper import yield_latest_news\n",
    "\n",
    "begin_date = '2019-01-01'\n",
    "max_num = 10\n",
    "sleep = 1.0\n",
    "\n",
    "for i, json_obj in enumerate(yield_latest_news(begin_date, max_num, sleep)):\n",
    "    title = json_obj['title']\n",
    "    time = json_obj['date']\n",
    "    print('[{} / {}] ({}) {}'.format(i+1, max_num, time, title))"
   ]
  }
 ],
 "metadata": {
  "kernelspec": {
   "display_name": "Python 3",
   "language": "python",
   "name": "python3"
  },
  "language_info": {
   "codemirror_mode": {
    "name": "ipython",
    "version": 3
   },
   "file_extension": ".py",
   "mimetype": "text/x-python",
   "name": "python",
   "nbconvert_exporter": "python",
   "pygments_lexer": "ipython3",
   "version": "3.7.1"
  },
  "varInspector": {
   "cols": {
    "lenName": 16,
    "lenType": 16,
    "lenVar": 40
   },
   "kernels_config": {
    "python": {
     "delete_cmd_postfix": "",
     "delete_cmd_prefix": "del ",
     "library": "var_list.py",
     "varRefreshCmd": "print(var_dic_list())"
    },
    "r": {
     "delete_cmd_postfix": ") ",
     "delete_cmd_prefix": "rm(",
     "library": "var_list.r",
     "varRefreshCmd": "cat(var_dic_list()) "
    }
   },
   "oldHeight": 122.545454,
   "position": {
    "height": "40px",
    "left": "1007.45px",
    "right": "20px",
    "top": "139px",
    "width": "250px"
   },
   "types_to_exclude": [
    "module",
    "function",
    "builtin_function_or_method",
    "instance",
    "_Feature"
   ],
   "varInspector_section_display": "none",
   "window_display": true
  }
 },
 "nbformat": 4,
 "nbformat_minor": 2
}
