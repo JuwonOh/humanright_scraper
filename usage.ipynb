{
 "cells": [
  {
   "cell_type": "code",
   "execution_count": 1,
   "metadata": {},
   "outputs": [],
   "source": [
    "import time\n",
    "import Humanright_scraper"
   ]
  },
  {
   "cell_type": "code",
   "execution_count": 2,
   "metadata": {},
   "outputs": [],
   "source": [
    "import re\n",
    "patterns = [\n",
    "    re.compile('https://www.hrw.org/report/[\\w]+'),\n",
    "    re.compile('https://www.hrw.org/news[\\w]+')]\n",
    "\n",
    "def is_matched(url):\n",
    "    for pattern in patterns:\n",
    "        if pattern.match(url):\n",
    "            return True\n",
    "    return False"
   ]
  },
  {
   "cell_type": "code",
   "execution_count": 3,
   "metadata": {},
   "outputs": [],
   "source": [
    "from Humanright_scraper import get_soup\n",
    "url_news = 'https://www.hrw.org/news?keyword=&date%5Bvalue%5D%5Byear%5D=&page=0/'\n",
    "sub_links = get_soup(url_news).find_all('h3', class_= 'title')\n",
    "links = ['https://www.hrw.org' + i.find('a')['href'] for i in sub_links]\n",
    "\n"
   ]
  },
  {
   "cell_type": "code",
   "execution_count": 4,
   "metadata": {
    "scrolled": true
   },
   "outputs": [
    {
     "name": "stdout",
     "output_type": "stream",
     "text": [
      "44 report_urls for all report\n",
      "45 news_urls for all article\n"
     ]
    }
   ],
   "source": [
    "from Humanright_scraper import get_report_urls\n",
    "from Humanright_scraper import get_news_urls\n",
    "\n",
    "report_urls = get_report_urls(begin_page=0, end_page=2, verbose=True)\n",
    "print('%d report_urls for all report' % len(report_urls))\n",
    "\n",
    "news_urls = get_news_urls(begin_page=0, end_page=2, verbose=True)\n",
    "print('%d news_urls for all article' % len(news_urls))"
   ]
  },
  {
   "cell_type": "code",
   "execution_count": 5,
   "metadata": {
    "scrolled": true
   },
   "outputs": [
    {
     "name": "stdout",
     "output_type": "stream",
     "text": [
      "url : https://www.hrw.org/report/2019/03/06/everyone-must-confess/abuses-against-children-suspected-isis-a ..\n",
      "title : “Everyone Must Confess”Abuses against Children Suspected of ISIS Affiliation in Iraq ..\n",
      "date : 2019-03-06 00:00:00 ..\n",
      "content : \n",
      " \n",
      "\n",
      "Summary\n",
      "\n",
      "“Nasim” grew up in Mosul, Iraq, and attended school for five years until the Islamic St ..\n",
      "tag : Region / Country Middle East/North Africa Iraq  ..\n",
      "\n",
      "\n",
      "url : https://www.hrw.org/report/2019/02/18/violent-cow-protection-india/vigilante-groups-attack-minoritie ..\n",
      "title : Violent Cow Protection in IndiaVigilante Groups Attack Minorities ..\n",
      "date : 2019-02-18 22:30:00 ..\n",
      "content : \n",
      "\n",
      "Summary\n",
      "\n",
      "On March 18, 2016, a group of men murdered two Muslim cattle herders who were on their wa ..\n",
      "tag : Region / Country Asia India  ..\n",
      "\n",
      "\n",
      "url : https://www.hrw.org/report/2019/02/06/breath-government-my-back/attacks-womens-rights-poland ..\n",
      "title : “The Breath of the Government on My Back”Attacks on Women’s Rights in Poland ..\n",
      "date : 2019-02-06 02:00:00 ..\n",
      "content : \n",
      " \n",
      "\n",
      "Summary\n",
      "\n",
      "On October 3, 2016, thousands of demonstrators filled streets across Poland to protest  ..\n",
      "tag : Region / Country Europe/Central Asia Poland  ..\n",
      "\n",
      "\n",
      "url : https://www.hrw.org/news/2019/03/14/violence-against-women-pervasive-nigeria ..\n",
      "title : Violence against Women Pervasive  in NigeriaAdoption of Nigeria's UPR ..\n",
      "date : 2019-03-14 07:34:17 ..\n",
      "content : \n",
      "Amnesty International and Human Rights Watch welcome Nigeria’s cooperation with the review process  ..\n",
      "tag : Region / Country Africa Nigeria  ..\n",
      "\n",
      "\n",
      "url : https://www.hrw.org/news/2019/03/14/court-case-against-oyub-titiyev-tragic-farce ..\n",
      "title : The Court Case Against Oyub Titiyev Is a Tragic FarceThe veteran Chechen human rights defender faces ..\n",
      "date : 2019-03-14 06:53:20 ..\n",
      "content : \n",
      "\n",
      "\n",
      "\n",
      "\n",
      "\n",
      " \n",
      "\n",
      "Expand\n",
      "\n",
      "\n",
      "\n",
      "Oyub Titiev, Grozny, 2018. \n",
      "\n",
      "© 2018 Human Rights Watch\n",
      "\n",
      "\n",
      "\n",
      "After 14 months behind  ..\n",
      "tag : Region / Country Europe/Central Asia Russia  ..\n",
      "\n",
      "\n",
      "url : https://www.hrw.org/news/2019/03/14/saudi-arabia-should-release-defenders-undertake-meaningful-right ..\n",
      "title : Saudi Arabia should release defenders, undertake meaningful rights reform Adoption of Saudi Arabia's ..\n",
      "date : 2019-03-14 05:42:49 ..\n",
      "content : \n",
      "A large number of human rights concerns were raised during the UPR of Saudi Arabia, such as the det ..\n",
      "tag : Region / Country Middle East/North Africa Saudi Arabia  ..\n",
      "\n",
      "\n"
     ]
    }
   ],
   "source": [
    "from Humanright_scraper import parse_page\n",
    "def pprint(json_object):\n",
    "    for k, v in json_object.items():\n",
    "        print('{} : {} ..'.format(k, str(v)[:100]))\n",
    "    print('\\n')\n",
    "\n",
    "SLEEP = 0.5\n",
    "\n",
    "   \n",
    "for url in report_urls[:3]:\n",
    "    rjson_object = parse_page(url)\n",
    "    pprint(rjson_object)\n",
    "\n",
    "for url in news_urls[:3]:\n",
    "    ajson_object = parse_page(url)\n",
    "    pprint(ajson_object)"
   ]
  },
  {
   "cell_type": "code",
   "execution_count": 6,
   "metadata": {},
   "outputs": [
    {
     "name": "stdout",
     "output_type": "stream",
     "text": [
      "'time'\n",
      "Parsing error from https://www.hrw.org/report/2019/03/06/everyone-must-confess/abuses-against-children-suspected-isis-affiliation-iraq\n"
     ]
    }
   ],
   "source": [
    "from Humanright_scraper import yield_latest_report\n",
    "\n",
    "begin_date = '2019-01-01'\n",
    "max_num = 10\n",
    "sleep = 1.0\n",
    "\n",
    "for i, json_obj in enumerate(yield_latest_report(begin_date, max_num, sleep)):\n",
    "    title = json_obj['title']\n",
    "    time = json_obj['date']\n",
    "    print('[{} / {}] ({}) {}'.format(i+1, max_num, time, title))"
   ]
  },
  {
   "cell_type": "code",
   "execution_count": 7,
   "metadata": {
    "scrolled": false
   },
   "outputs": [],
   "source": [
    "from Humanright_scraper import yield_latest_news\n",
    "\n",
    "begin_date = '2019-01-01'\n",
    "max_num = 10\n",
    "sleep = 3.0\n",
    "\n",
    "for i, json_obj in enumerate(yield_latest_news(begin_date, max_num, sleep)):\n",
    "    title = json_obj['title']\n",
    "    time = json_obj['date']"
   ]
  }
 ],
 "metadata": {
  "kernelspec": {
   "display_name": "Python 3",
   "language": "python",
   "name": "python3"
  },
  "language_info": {
   "codemirror_mode": {
    "name": "ipython",
    "version": 3
   },
   "file_extension": ".py",
   "mimetype": "text/x-python",
   "name": "python",
   "nbconvert_exporter": "python",
   "pygments_lexer": "ipython3",
   "version": "3.7.1"
  },
  "varInspector": {
   "cols": {
    "lenName": 16,
    "lenType": 16,
    "lenVar": 40
   },
   "kernels_config": {
    "python": {
     "delete_cmd_postfix": "",
     "delete_cmd_prefix": "del ",
     "library": "var_list.py",
     "varRefreshCmd": "print(var_dic_list())"
    },
    "r": {
     "delete_cmd_postfix": ") ",
     "delete_cmd_prefix": "rm(",
     "library": "var_list.r",
     "varRefreshCmd": "cat(var_dic_list()) "
    }
   },
   "oldHeight": 122.545454,
   "position": {
    "height": "40px",
    "left": "1007.45px",
    "right": "20px",
    "top": "139px",
    "width": "250px"
   },
   "types_to_exclude": [
    "module",
    "function",
    "builtin_function_or_method",
    "instance",
    "_Feature"
   ],
   "varInspector_section_display": "none",
   "window_display": true
  }
 },
 "nbformat": 4,
 "nbformat_minor": 2
}
